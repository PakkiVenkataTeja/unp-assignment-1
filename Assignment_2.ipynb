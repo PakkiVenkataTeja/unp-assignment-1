{
  "nbformat": 4,
  "nbformat_minor": 0,
  "metadata": {
    "colab": {
      "name": "Assignment-2.ipynb",
      "provenance": [],
      "collapsed_sections": []
    },
    "kernelspec": {
      "name": "python3",
      "display_name": "Python 3"
    },
    "language_info": {
      "name": "python"
    }
  },
  "cells": [
    {
      "cell_type": "markdown",
      "source": [
        "This is your assignment on conditional statement and looping"
      ],
      "metadata": {
        "id": "RWGPvgMGhZo5"
      }
    },
    {
      "cell_type": "markdown",
      "source": [
        "**Problem-1**<br>\n",
        "Write a small program to check a number is divisible by 7 or not"
      ],
      "metadata": {
        "id": "IKuXztS-h62c"
      }
    },
    {
      "cell_type": "code",
      "source": [
        "a=int(input(\"enter a number\"))\n",
        "if a%7==0:\n",
        "  print(\"given number is divisible by 7\")\n",
        "else:\n",
        "  print(\"given number is not divisible by 7\")  "
      ],
      "metadata": {
        "id": "tmLkoOqthcy-",
        "colab": {
          "base_uri": "https://localhost:8080/"
        },
        "outputId": "796efacd-f919-4fc9-b07b-50209e2f3fb1"
      },
      "execution_count": null,
      "outputs": [
        {
          "output_type": "stream",
          "name": "stdout",
          "text": [
            "enter a number49\n",
            "given number is divisible by 7\n"
          ]
        }
      ]
    },
    {
      "cell_type": "markdown",
      "source": [
        "**Problem-2**<br>\n",
        "If a number is divisible by either 5 or 7, then we will call it a 'five-or-seven' number.<br> \n",
        "Write down a program to check if a number is 'five-or-seven' number or not."
      ],
      "metadata": {
        "id": "aKEBothyhZy8"
      }
    },
    {
      "cell_type": "code",
      "source": [
        "a=int(input(\"enter a number\"))\n",
        "if a%5==0 or a%7==0:\n",
        "  print(\"given number is divisible by 5 or 7 , we will call it a 'five-or-seven' number.\")\n",
        "else:\n",
        "  print(\"given number is not divisible by 5 or 7, we will not call it a 'five-or-seven' number.\")  \n"
      ],
      "metadata": {
        "id": "Vv-j3UR9hd1-",
        "colab": {
          "base_uri": "https://localhost:8080/"
        },
        "outputId": "98999386-3e64-4a27-e03c-511da6aa5114"
      },
      "execution_count": null,
      "outputs": [
        {
          "output_type": "stream",
          "name": "stdout",
          "text": [
            "enter a number953\n",
            "given number is not divisible by 5 or 7, we will not call it a 'five-or-seven' number.\n"
          ]
        }
      ]
    },
    {
      "cell_type": "markdown",
      "source": [
        "**Problem-3**<br>\n",
        "Write a program to calculate the electricity bill (accept number of unit from user) according to the following criteria:<br>  \n",
        "Upto first 100 units Rs. 3 per unit.<br>\n",
        "Next 100 units Rs. 5 per unit.<br>\n",
        "Next 300 units Rs. 7 per unit.<br>\n",
        "Above that, for each unit exceeding 500, Rs. 10 per unit flat.<br>"
      ],
      "metadata": {
        "id": "Y9KxqFjxl2zt"
      }
    },
    {
      "cell_type": "code",
      "source": [
        "a=int(input(\"past electric unit\"))\n",
        "b=int(input(\"present electric unit\"))\n",
        "units=b-a\n",
        "print(\"units =\",units)\n",
        "if (units<=100):\n",
        "      first= units*3\n",
        "      print(first)\n",
        "elif (units>100 and units<=200):\n",
        "      sec=((100*3)+(units-100)*5)\n",
        "      print(sec)\n",
        "elif (units>200 and units<=500):\n",
        "      th=((100*3)+(100*5)+(units-200)*7)\n",
        "      print(th)\n",
        "elif (units>500):\n",
        "      n=((100*3)+(100*5)+(300*7)+(units-500)*10);\n",
        "      print(n)\n"
      ],
      "metadata": {
        "id": "f_xfH-gSnRvI",
        "colab": {
          "base_uri": "https://localhost:8080/"
        },
        "outputId": "e82b14a0-9f9e-41b7-ac98-0924ad115337"
      },
      "execution_count": null,
      "outputs": [
        {
          "output_type": "stream",
          "name": "stdout",
          "text": [
            "past electric unit500\n",
            "present electric unit790\n",
            "units = 290\n",
            "1430\n"
          ]
        }
      ]
    },
    {
      "cell_type": "markdown",
      "source": [
        "**Problem-4**<br>\n",
        "Find out sum of square of all the numbers upto 10, starting from 1"
      ],
      "metadata": {
        "id": "rLNw2lAwhZ8q"
      }
    },
    {
      "cell_type": "code",
      "source": [
        "n=10\n",
        "a=0\n",
        "for i in range (1,n+1):\n",
        "    a=a+(i**2)\n",
        "print(a)"
      ],
      "metadata": {
        "id": "8kgqZ_x-heuw",
        "colab": {
          "base_uri": "https://localhost:8080/"
        },
        "outputId": "54b3406c-89f9-4277-961c-e11b39d896d4"
      },
      "execution_count": 2,
      "outputs": [
        {
          "output_type": "stream",
          "name": "stdout",
          "text": [
            "385\n"
          ]
        }
      ]
    },
    {
      "cell_type": "markdown",
      "source": [
        "**Problem-5**<br>\n",
        "Find out sum of square of all the even numbers upto 10, starting from 1"
      ],
      "metadata": {
        "id": "Y-MCE0x9haiN"
      }
    },
    {
      "cell_type": "code",
      "source": [
        "a=0\n",
        "for i in range (1,5):\n",
        "    a=a+((2*i)**2)\n",
        "print(a)"
      ],
      "metadata": {
        "id": "Ki_-j4Dphfkd",
        "colab": {
          "base_uri": "https://localhost:8080/"
        },
        "outputId": "3acb0657-2122-4a31-fc13-dd6e4e9606ae"
      },
      "execution_count": 5,
      "outputs": [
        {
          "output_type": "stream",
          "name": "stdout",
          "text": [
            "120\n"
          ]
        }
      ]
    },
    {
      "cell_type": "markdown",
      "source": [
        "**Problem-6**<br>\n",
        "Check a number is prime or not"
      ],
      "metadata": {
        "id": "Sxp-egxiha1L"
      }
    },
    {
      "cell_type": "code",
      "source": [
        "a=int(input('Enter a number:'))\n",
        "n=0\n",
        "for i in range(2,a):\n",
        "    if(a%i==0):\n",
        "      n=1\n",
        "if (a==0):\n",
        "    print(a,\"given no is a Prime Number\")\n",
        "else:\n",
        "    print(a,\" given no is not a Prime Number'\")"
      ],
      "metadata": {
        "id": "IoGNy2aMhgop",
        "colab": {
          "base_uri": "https://localhost:8080/"
        },
        "outputId": "bfa2e456-0ff1-400f-81ca-021213979eab"
      },
      "execution_count": 6,
      "outputs": [
        {
          "output_type": "stream",
          "name": "stdout",
          "text": [
            "Enter a number:345\n",
            "345  given no is not a Prime Number'\n"
          ]
        }
      ]
    },
    {
      "cell_type": "markdown",
      "source": [
        "**Problem-7**<br>\n",
        "Print multiplication table upto 10 starting from 1"
      ],
      "metadata": {
        "id": "ntLKcA1hha44"
      }
    },
    {
      "cell_type": "code",
      "source": [
        "a=int(input('Enter a number:'))\n",
        "for i in range(1,11):\n",
        "    mul=a*i\n",
        "    print(a,'*',i,'=',mul)"
      ],
      "metadata": {
        "id": "U5LmrwFmhiE3",
        "colab": {
          "base_uri": "https://localhost:8080/"
        },
        "outputId": "02afe96e-ff22-4788-e352-516d9f2e172d"
      },
      "execution_count": 10,
      "outputs": [
        {
          "output_type": "stream",
          "name": "stdout",
          "text": [
            "Enter a number:100\n",
            "100 * 1 = 100\n",
            "100 * 2 = 200\n",
            "100 * 3 = 300\n",
            "100 * 4 = 400\n",
            "100 * 5 = 500\n",
            "100 * 6 = 600\n",
            "100 * 7 = 700\n",
            "100 * 8 = 800\n",
            "100 * 9 = 900\n",
            "100 * 10 = 1000\n"
          ]
        }
      ]
    },
    {
      "cell_type": "markdown",
      "source": [
        "**Problem-8**<br>\n",
        "Print the series of first n fibonacci numbers"
      ],
      "metadata": {
        "id": "09Fwyn_ZhbDY"
      }
    },
    {
      "cell_type": "code",
      "source": [
        "a=int(input('Enter a number'))\n",
        "f1=0\n",
        "f2=1\n",
        "print(f1)\n",
        "print(f2)\n",
        "for i in range(3,a+1):\n",
        "    f3=f1+f2\n",
        "    print(f3)\n",
        "    f1=f2\n",
        "    f2=f3"
      ],
      "metadata": {
        "id": "mo2otdwfhi3J",
        "colab": {
          "base_uri": "https://localhost:8080/"
        },
        "outputId": "9650565b-77b4-4580-da99-16a1da3ef64a"
      },
      "execution_count": 9,
      "outputs": [
        {
          "output_type": "stream",
          "name": "stdout",
          "text": [
            "Enter a number20\n",
            "0\n",
            "1\n",
            "1\n",
            "2\n",
            "3\n",
            "5\n",
            "8\n",
            "13\n",
            "21\n",
            "34\n",
            "55\n",
            "89\n",
            "144\n",
            "233\n",
            "377\n",
            "610\n",
            "987\n",
            "1597\n",
            "2584\n",
            "4181\n"
          ]
        }
      ]
    }
  ]
}